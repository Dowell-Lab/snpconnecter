{
 "cells": [
  {
   "cell_type": "code",
   "execution_count": 27,
   "metadata": {
    "ExecuteTime": {
     "end_time": "2023-11-29T16:08:55.427603Z",
     "start_time": "2023-11-29T16:08:55.421797Z"
    }
   },
   "outputs": [],
   "source": [
    "import pandas as pd\n",
    "import os"
   ]
  },
  {
   "cell_type": "markdown",
   "metadata": {
    "ExecuteTime": {
     "end_time": "2023-11-28T20:28:52.823116Z",
     "start_time": "2023-11-28T20:28:52.820241Z"
    }
   },
   "source": [
    "# How many pubmed IDs in this study"
   ]
  },
  {
   "cell_type": "code",
   "execution_count": 28,
   "metadata": {
    "ExecuteTime": {
     "end_time": "2023-11-29T16:08:55.542684Z",
     "start_time": "2023-11-29T16:08:55.431926Z"
    }
   },
   "outputs": [],
   "source": [
    "orifile=\"/scratch/Shares/dowell/dbnascent/out/meta_analysis/snpconnecter/inputdata/EFO_0000565_associations_export.tsv\""
   ]
  },
  {
   "cell_type": "code",
   "execution_count": 29,
   "metadata": {
    "ExecuteTime": {
     "end_time": "2023-11-29T16:08:55.583251Z",
     "start_time": "2023-11-29T16:08:55.546468Z"
    }
   },
   "outputs": [
    {
     "data": {
      "text/plain": [
       "35"
      ]
     },
     "execution_count": 29,
     "metadata": {},
     "output_type": "execute_result"
    }
   ],
   "source": [
    "orifiledf = pd.read_csv(orifile, sep=\"\\t\")\n",
    "len(orifiledf[\"pubmedId\"].unique())"
   ]
  },
  {
   "cell_type": "code",
   "execution_count": 30,
   "metadata": {
    "ExecuteTime": {
     "end_time": "2023-11-29T16:08:55.595341Z",
     "start_time": "2023-11-29T16:08:55.585512Z"
    }
   },
   "outputs": [],
   "source": [
    "mainindir=\"/scratch/Shares/dowell/dbnascent/out/meta_analysis/snpconnecter/outputdata/\"\n",
    "rootname=\"EFO_0000565\"\n",
    "outdir = mainindir+\"tissues_\"+rootname+\"/\"\n",
    "if not os.path.exists(outdir):\n",
    "    os.makedirs(outdir)\n"
   ]
  },
  {
   "cell_type": "markdown",
   "metadata": {},
   "source": [
    "# Read in all the data that came from the GWAStogenes.sh script "
   ]
  },
  {
   "cell_type": "code",
   "execution_count": 31,
   "metadata": {
    "ExecuteTime": {
     "end_time": "2023-11-29T16:08:55.727341Z",
     "start_time": "2023-11-29T16:08:55.597672Z"
    }
   },
   "outputs": [],
   "source": [
    "def snpclosestgenedf(mainindir, rootname, tissue):\n",
    "    snptobedfile=mainindir+rootname+\"_\"+tissue+\"/\"+rootname+\".snp_to_bed.txt\"\n",
    "    snptobeddf = pd.read_csv(snptobedfile, sep=\"\\t\")\n",
    "    closestgenetosnp=mainindir+rootname+\"_\"+tissue+\"/\"+rootname+\".closestgene.sorted.bed\"\n",
    "    closestgenetosnpdf = pd.read_csv(closestgenetosnp, sep=\"\\t\", names=[\"snp_chr\", \"snp_start\", \"snp_stop\", \"closest_gene_chr\", \"closest_gene_start\", \"closest_gene_stop\", \"closest_gene_name\",\"score\", \"strand\", \"closest_distance\"], index_col=False)\n",
    "    closestgenetosnpdf[[\"closest_gene\", \"closest_transcript_id\"]] = closestgenetosnpdf['closest_gene_name'].str.split(':', n=1, expand=True)\n",
    "    masterdf = snptobeddf.merge(closestgenetosnpdf, on=[\"snp_chr\", \"snp_start\"])\n",
    "    print (\"unique snps in bidirectionals\", masterdf[\"rsID\"].nunique())\n",
    "    return masterdf\n",
    "    \n",
    "\n",
    "def merge_dfs_outer(mainindir, rootname, tissue):\n",
    "    snptobedfile=mainindir+rootname+\"_\"+tissue+\"/\"+rootname+\".snp_to_bed.txt\"\n",
    "    bedtobidirfile=mainindir+rootname+\"_\"+tissue+\"/\"+rootname+\".snpinbidir.df\"\n",
    "    bidirtogenefile=mainindir+rootname+\"_\"+tissue+\"/\"+rootname+\".genelist.txt.df\"\n",
    "    snptobeddf = pd.read_csv(snptobedfile, sep=\"\\t\")\n",
    "    checkedbidirs = readsnpsandgeneschecked()\n",
    "    bedtobidirdf = pd.read_csv(bedtobidirfile)\n",
    "    bidirtogenedf = pd.read_csv(bidirtogenefile)\n",
    "    bedtobidirdf[\"bidirtesed_for_links\"]= bedtobidirdf[\"bidirname\"].isin(checkedbidirs)\n",
    "    masterdf = snptobeddf.merge(bedtobidirdf, on=[\"snp_chr\", \"snp_start\"], how=\"outer\")\n",
    "    masterdf = masterdf.merge(bidirtogenedf, left_on=\"bidirname\", right_on=\"transcript_2\", how=\"outer\")\n",
    "    masterdf_mini = masterdf[[\"riskAllele\", \"rsID\", 'snp_chr', 'snp_start', \"bidirname\", \"distance_tss\", \"transcript_1\", \"gene\", \"bidirtesed_for_links\"]].drop_duplicates()\n",
    "    closestgenetosnpdf = snpclosestgenedf(mainindir, rootname, tissue)\n",
    "    backtoallsnps = closestgenetosnpdf.merge(masterdf_mini, how=\"outer\", on=[\"snp_chr\", \"snp_start\", \"riskAllele\", \"rsID\"])\n",
    "    backtoallsnps[\"snp_in_gene\"] = backtoallsnps[\"closest_distance\"]==0\n",
    "    return backtoallsnps\n",
    "\n",
    "#\n",
    "def readsnpsandgeneschecked():\n",
    "    #only genes and snps with expression were checked for correlation\n",
    "    filename=\"/scratch/Shares/dowell/rutendo/projects/DBNascent_Analysis/data/counts/normalized/genes_inter_bidir_filtered.tsv.gz\"\n",
    "    checkedforlinksdf = pd.read_csv(filename, compression='gzip', sep=\"\\t\",low_memory=False)\n",
    "    bidircheckedforlinksdf = checkedforlinksdf[checkedforlinksdf[\"gene_transcript\"].str.startswith(\"chr\")]filename=\"/scratch/Shares/dowell/rutendo/projects/DBNascent_Analysis/data/counts/normalized/genes_inter_bidir_filtered.tsv.gz\"\n",
    "    checkedforlinksdf = pd.read_csv(filename, compression='gzip', sep=\"\\t\",low_memory=False)\n",
    "    return bidircheckedforlinksdf[\"gene_transcript\"].unique()\n",
    "    \n",
    "    "
   ]
  },
  {
   "cell_type": "code",
   "execution_count": 32,
   "metadata": {
    "ExecuteTime": {
     "end_time": "2023-11-29T16:10:43.825361Z",
     "start_time": "2023-11-29T16:08:55.729630Z"
    }
   },
   "outputs": [
    {
     "name": "stdout",
     "output_type": "stream",
     "text": [
      "unique snps in bidirectionals 7805\n"
     ]
    },
    {
     "data": {
      "text/html": [
       "<div>\n",
       "<style scoped>\n",
       "    .dataframe tbody tr th:only-of-type {\n",
       "        vertical-align: middle;\n",
       "    }\n",
       "\n",
       "    .dataframe tbody tr th {\n",
       "        vertical-align: top;\n",
       "    }\n",
       "\n",
       "    .dataframe thead th {\n",
       "        text-align: right;\n",
       "    }\n",
       "</style>\n",
       "<table border=\"1\" class=\"dataframe\">\n",
       "  <thead>\n",
       "    <tr style=\"text-align: right;\">\n",
       "      <th></th>\n",
       "      <th>Unnamed: 0</th>\n",
       "      <th>riskAllele</th>\n",
       "      <th>locations</th>\n",
       "      <th>snp_chr</th>\n",
       "      <th>snp_start</th>\n",
       "      <th>rsID</th>\n",
       "      <th>change</th>\n",
       "      <th>stop</th>\n",
       "      <th>snp_stop</th>\n",
       "      <th>closest_gene_chr</th>\n",
       "      <th>...</th>\n",
       "      <th>strand</th>\n",
       "      <th>closest_distance</th>\n",
       "      <th>closest_gene</th>\n",
       "      <th>closest_transcript_id</th>\n",
       "      <th>bidirname</th>\n",
       "      <th>distance_tss</th>\n",
       "      <th>transcript_1</th>\n",
       "      <th>gene</th>\n",
       "      <th>bidirtesed_for_links</th>\n",
       "      <th>snp_in_gene</th>\n",
       "    </tr>\n",
       "  </thead>\n",
       "  <tbody>\n",
       "    <tr>\n",
       "      <th>0</th>\n",
       "      <td>0</td>\n",
       "      <td>rs7090445-?</td>\n",
       "      <td>10:61961417</td>\n",
       "      <td>chr10</td>\n",
       "      <td>61961417</td>\n",
       "      <td>rs7090445</td>\n",
       "      <td>?</td>\n",
       "      <td>61961418</td>\n",
       "      <td>61961418</td>\n",
       "      <td>chr10</td>\n",
       "      <td>...</td>\n",
       "      <td>+</td>\n",
       "      <td>88689</td>\n",
       "      <td>ARID5B</td>\n",
       "      <td>NM_001244638.2</td>\n",
       "      <td>chr10:61961221-61961505</td>\n",
       "      <td>NaN</td>\n",
       "      <td>NaN</td>\n",
       "      <td>NaN</td>\n",
       "      <td>False</td>\n",
       "      <td>False</td>\n",
       "    </tr>\n",
       "    <tr>\n",
       "      <th>1</th>\n",
       "      <td>63</td>\n",
       "      <td>rs7090445-?</td>\n",
       "      <td>10:61961417</td>\n",
       "      <td>chr10</td>\n",
       "      <td>61961417</td>\n",
       "      <td>rs7090445</td>\n",
       "      <td>?</td>\n",
       "      <td>61961418</td>\n",
       "      <td>61961418</td>\n",
       "      <td>chr10</td>\n",
       "      <td>...</td>\n",
       "      <td>+</td>\n",
       "      <td>88689</td>\n",
       "      <td>ARID5B</td>\n",
       "      <td>NM_001244638.2</td>\n",
       "      <td>chr10:61961221-61961505</td>\n",
       "      <td>NaN</td>\n",
       "      <td>NaN</td>\n",
       "      <td>NaN</td>\n",
       "      <td>False</td>\n",
       "      <td>False</td>\n",
       "    </tr>\n",
       "    <tr>\n",
       "      <th>2</th>\n",
       "      <td>1</td>\n",
       "      <td>rs2665658-A</td>\n",
       "      <td>2:60599667</td>\n",
       "      <td>chr2</td>\n",
       "      <td>60599667</td>\n",
       "      <td>rs2665658</td>\n",
       "      <td>A</td>\n",
       "      <td>60599668</td>\n",
       "      <td>60599668</td>\n",
       "      <td>chr2</td>\n",
       "      <td>...</td>\n",
       "      <td>-</td>\n",
       "      <td>71883</td>\n",
       "      <td>BCL11A</td>\n",
       "      <td>NR_175964.1</td>\n",
       "      <td>NaN</td>\n",
       "      <td>NaN</td>\n",
       "      <td>NaN</td>\n",
       "      <td>NaN</td>\n",
       "      <td>NaN</td>\n",
       "      <td>False</td>\n",
       "    </tr>\n",
       "    <tr>\n",
       "      <th>3</th>\n",
       "      <td>2</td>\n",
       "      <td>rs2665658-A</td>\n",
       "      <td>2:60599667</td>\n",
       "      <td>chr2</td>\n",
       "      <td>60599667</td>\n",
       "      <td>rs2665658</td>\n",
       "      <td>A</td>\n",
       "      <td>60599668</td>\n",
       "      <td>60599668</td>\n",
       "      <td>chr2</td>\n",
       "      <td>...</td>\n",
       "      <td>-</td>\n",
       "      <td>71883</td>\n",
       "      <td>BCL11A</td>\n",
       "      <td>NR_175964.1</td>\n",
       "      <td>NaN</td>\n",
       "      <td>NaN</td>\n",
       "      <td>NaN</td>\n",
       "      <td>NaN</td>\n",
       "      <td>NaN</td>\n",
       "      <td>False</td>\n",
       "    </tr>\n",
       "    <tr>\n",
       "      <th>4</th>\n",
       "      <td>3</td>\n",
       "      <td>rs4869742-T</td>\n",
       "      <td>6:151586613</td>\n",
       "      <td>chr6</td>\n",
       "      <td>151586613</td>\n",
       "      <td>rs4869742</td>\n",
       "      <td>T</td>\n",
       "      <td>151586614</td>\n",
       "      <td>151586614</td>\n",
       "      <td>chr6</td>\n",
       "      <td>...</td>\n",
       "      <td>+</td>\n",
       "      <td>0</td>\n",
       "      <td>CCDC170</td>\n",
       "      <td>NM_025059.4</td>\n",
       "      <td>NaN</td>\n",
       "      <td>NaN</td>\n",
       "      <td>NaN</td>\n",
       "      <td>NaN</td>\n",
       "      <td>NaN</td>\n",
       "      <td>True</td>\n",
       "    </tr>\n",
       "    <tr>\n",
       "      <th>...</th>\n",
       "      <td>...</td>\n",
       "      <td>...</td>\n",
       "      <td>...</td>\n",
       "      <td>...</td>\n",
       "      <td>...</td>\n",
       "      <td>...</td>\n",
       "      <td>...</td>\n",
       "      <td>...</td>\n",
       "      <td>...</td>\n",
       "      <td>...</td>\n",
       "      <td>...</td>\n",
       "      <td>...</td>\n",
       "      <td>...</td>\n",
       "      <td>...</td>\n",
       "      <td>...</td>\n",
       "      <td>...</td>\n",
       "      <td>...</td>\n",
       "      <td>...</td>\n",
       "      <td>...</td>\n",
       "      <td>...</td>\n",
       "      <td>...</td>\n",
       "    </tr>\n",
       "    <tr>\n",
       "      <th>13082</th>\n",
       "      <td>2110</td>\n",
       "      <td>rs131821-AT</td>\n",
       "      <td>22:50511648</td>\n",
       "      <td>chr22</td>\n",
       "      <td>50511648</td>\n",
       "      <td>rs131821</td>\n",
       "      <td>AT</td>\n",
       "      <td>50511649</td>\n",
       "      <td>50511649</td>\n",
       "      <td>chr22</td>\n",
       "      <td>...</td>\n",
       "      <td>+</td>\n",
       "      <td>0</td>\n",
       "      <td>NCAPH2</td>\n",
       "      <td>NM_014551.5</td>\n",
       "      <td>chr22:50511408-50511748</td>\n",
       "      <td>NaN</td>\n",
       "      <td>NaN</td>\n",
       "      <td>NaN</td>\n",
       "      <td>False</td>\n",
       "      <td>True</td>\n",
       "    </tr>\n",
       "    <tr>\n",
       "      <th>13083</th>\n",
       "      <td>2111</td>\n",
       "      <td>rs11715604-?</td>\n",
       "      <td>3:136870707</td>\n",
       "      <td>chr3</td>\n",
       "      <td>136870707</td>\n",
       "      <td>rs11715604</td>\n",
       "      <td>?</td>\n",
       "      <td>136870708</td>\n",
       "      <td>136870708</td>\n",
       "      <td>chr3</td>\n",
       "      <td>...</td>\n",
       "      <td>-</td>\n",
       "      <td>9395</td>\n",
       "      <td>NCK1-DT</td>\n",
       "      <td>NR_110175.1</td>\n",
       "      <td>chr3:136869554-136871154</td>\n",
       "      <td>NaN</td>\n",
       "      <td>NaN</td>\n",
       "      <td>NaN</td>\n",
       "      <td>False</td>\n",
       "      <td>False</td>\n",
       "    </tr>\n",
       "    <tr>\n",
       "      <th>13084</th>\n",
       "      <td>2112</td>\n",
       "      <td>rs9421684-A</td>\n",
       "      <td>10:80702590</td>\n",
       "      <td>chr10</td>\n",
       "      <td>80702590</td>\n",
       "      <td>rs9421684</td>\n",
       "      <td>A</td>\n",
       "      <td>80702591</td>\n",
       "      <td>80702591</td>\n",
       "      <td>chr10</td>\n",
       "      <td>...</td>\n",
       "      <td>+</td>\n",
       "      <td>48857</td>\n",
       "      <td>LINC02655</td>\n",
       "      <td>NR_155749.1</td>\n",
       "      <td>NaN</td>\n",
       "      <td>NaN</td>\n",
       "      <td>NaN</td>\n",
       "      <td>NaN</td>\n",
       "      <td>NaN</td>\n",
       "      <td>False</td>\n",
       "    </tr>\n",
       "    <tr>\n",
       "      <th>13085</th>\n",
       "      <td>2113</td>\n",
       "      <td>rs11187157-C</td>\n",
       "      <td>10:92742487</td>\n",
       "      <td>chr10</td>\n",
       "      <td>92742487</td>\n",
       "      <td>rs11187157</td>\n",
       "      <td>C</td>\n",
       "      <td>92742488</td>\n",
       "      <td>92742488</td>\n",
       "      <td>chr10</td>\n",
       "      <td>...</td>\n",
       "      <td>+</td>\n",
       "      <td>46841</td>\n",
       "      <td>HHEX</td>\n",
       "      <td>NM_002729.5</td>\n",
       "      <td>NaN</td>\n",
       "      <td>NaN</td>\n",
       "      <td>NaN</td>\n",
       "      <td>NaN</td>\n",
       "      <td>NaN</td>\n",
       "      <td>False</td>\n",
       "    </tr>\n",
       "    <tr>\n",
       "      <th>13086</th>\n",
       "      <td>2114</td>\n",
       "      <td>rs12203592-T</td>\n",
       "      <td>6:396321</td>\n",
       "      <td>chr6</td>\n",
       "      <td>396321</td>\n",
       "      <td>rs12203592</td>\n",
       "      <td>T</td>\n",
       "      <td>396322</td>\n",
       "      <td>396322</td>\n",
       "      <td>chr6</td>\n",
       "      <td>...</td>\n",
       "      <td>+</td>\n",
       "      <td>0</td>\n",
       "      <td>IRF4</td>\n",
       "      <td>NM_002460.4</td>\n",
       "      <td>NaN</td>\n",
       "      <td>NaN</td>\n",
       "      <td>NaN</td>\n",
       "      <td>NaN</td>\n",
       "      <td>NaN</td>\n",
       "      <td>True</td>\n",
       "    </tr>\n",
       "  </tbody>\n",
       "</table>\n",
       "<p>13087 rows × 24 columns</p>\n",
       "</div>"
      ],
      "text/plain": [
       "       Unnamed: 0    riskAllele    locations snp_chr  snp_start        rsID  \\\n",
       "0               0   rs7090445-?  10:61961417   chr10   61961417   rs7090445   \n",
       "1              63   rs7090445-?  10:61961417   chr10   61961417   rs7090445   \n",
       "2               1   rs2665658-A   2:60599667    chr2   60599667   rs2665658   \n",
       "3               2   rs2665658-A   2:60599667    chr2   60599667   rs2665658   \n",
       "4               3   rs4869742-T  6:151586613    chr6  151586613   rs4869742   \n",
       "...           ...           ...          ...     ...        ...         ...   \n",
       "13082        2110   rs131821-AT  22:50511648   chr22   50511648    rs131821   \n",
       "13083        2111  rs11715604-?  3:136870707    chr3  136870707  rs11715604   \n",
       "13084        2112   rs9421684-A  10:80702590   chr10   80702590   rs9421684   \n",
       "13085        2113  rs11187157-C  10:92742487   chr10   92742487  rs11187157   \n",
       "13086        2114  rs12203592-T     6:396321    chr6     396321  rs12203592   \n",
       "\n",
       "      change       stop   snp_stop closest_gene_chr  ...  strand  \\\n",
       "0          ?   61961418   61961418            chr10  ...       +   \n",
       "1          ?   61961418   61961418            chr10  ...       +   \n",
       "2          A   60599668   60599668             chr2  ...       -   \n",
       "3          A   60599668   60599668             chr2  ...       -   \n",
       "4          T  151586614  151586614             chr6  ...       +   \n",
       "...      ...        ...        ...              ...  ...     ...   \n",
       "13082     AT   50511649   50511649            chr22  ...       +   \n",
       "13083      ?  136870708  136870708             chr3  ...       -   \n",
       "13084      A   80702591   80702591            chr10  ...       +   \n",
       "13085      C   92742488   92742488            chr10  ...       +   \n",
       "13086      T     396322     396322             chr6  ...       +   \n",
       "\n",
       "       closest_distance closest_gene closest_transcript_id  \\\n",
       "0                 88689       ARID5B        NM_001244638.2   \n",
       "1                 88689       ARID5B        NM_001244638.2   \n",
       "2                 71883       BCL11A           NR_175964.1   \n",
       "3                 71883       BCL11A           NR_175964.1   \n",
       "4                     0      CCDC170           NM_025059.4   \n",
       "...                 ...          ...                   ...   \n",
       "13082                 0       NCAPH2           NM_014551.5   \n",
       "13083              9395      NCK1-DT           NR_110175.1   \n",
       "13084             48857    LINC02655           NR_155749.1   \n",
       "13085             46841         HHEX           NM_002729.5   \n",
       "13086                 0         IRF4           NM_002460.4   \n",
       "\n",
       "                      bidirname  distance_tss transcript_1 gene  \\\n",
       "0       chr10:61961221-61961505           NaN          NaN  NaN   \n",
       "1       chr10:61961221-61961505           NaN          NaN  NaN   \n",
       "2                           NaN           NaN          NaN  NaN   \n",
       "3                           NaN           NaN          NaN  NaN   \n",
       "4                           NaN           NaN          NaN  NaN   \n",
       "...                         ...           ...          ...  ...   \n",
       "13082   chr22:50511408-50511748           NaN          NaN  NaN   \n",
       "13083  chr3:136869554-136871154           NaN          NaN  NaN   \n",
       "13084                       NaN           NaN          NaN  NaN   \n",
       "13085                       NaN           NaN          NaN  NaN   \n",
       "13086                       NaN           NaN          NaN  NaN   \n",
       "\n",
       "      bidirtesed_for_links  snp_in_gene  \n",
       "0                    False        False  \n",
       "1                    False        False  \n",
       "2                      NaN        False  \n",
       "3                      NaN        False  \n",
       "4                      NaN         True  \n",
       "...                    ...          ...  \n",
       "13082                False         True  \n",
       "13083                False        False  \n",
       "13084                  NaN        False  \n",
       "13085                  NaN        False  \n",
       "13086                  NaN         True  \n",
       "\n",
       "[13087 rows x 24 columns]"
      ]
     },
     "execution_count": 32,
     "metadata": {},
     "output_type": "execute_result"
    }
   ],
   "source": [
    "tissue=\"blood\"\n",
    "allsnps_one_tissue = merge_dfs_outer(mainindir, rootname, tissue)\n",
    "allsnps_one_tissue"
   ]
  },
  {
   "cell_type": "code",
   "execution_count": 33,
   "metadata": {
    "ExecuteTime": {
     "end_time": "2023-11-29T16:10:43.833614Z",
     "start_time": "2023-11-29T16:10:43.828107Z"
    }
   },
   "outputs": [
    {
     "data": {
      "text/plain": [
       "Index(['Unnamed: 0', 'riskAllele', 'locations', 'snp_chr', 'snp_start', 'rsID',\n",
       "       'change', 'stop', 'snp_stop', 'closest_gene_chr', 'closest_gene_start',\n",
       "       'closest_gene_stop', 'closest_gene_name', 'score', 'strand',\n",
       "       'closest_distance', 'closest_gene', 'closest_transcript_id',\n",
       "       'bidirname', 'distance_tss', 'transcript_1', 'gene',\n",
       "       'bidirtesed_for_links', 'snp_in_gene'],\n",
       "      dtype='object')"
      ]
     },
     "execution_count": 33,
     "metadata": {},
     "output_type": "execute_result"
    }
   ],
   "source": [
    "allsnps_one_tissue.columns"
   ]
  },
  {
   "cell_type": "markdown",
   "metadata": {},
   "source": [
    "# Output what we know about all snps in this GWAS catalog for one tissue"
   ]
  },
  {
   "cell_type": "code",
   "execution_count": 34,
   "metadata": {
    "ExecuteTime": {
     "end_time": "2023-11-29T16:10:44.087850Z",
     "start_time": "2023-11-29T16:10:43.835917Z"
    }
   },
   "outputs": [],
   "source": [
    "\n",
    "def informationforpub(tissue, backtoallsnps):\n",
    "    print (\"riskAlleles\", len(backtoallsnps[\"riskAllele\"].unique()))\n",
    "    print (\"snp locations\", len(backtoallsnps[\"locations\"].unique()))\n",
    "    print (\"rsID\", len(backtoallsnps[\"rsID\"].unique()))\n",
    "    print (\"closest genes\", len(backtoallsnps[\"closest_gene\"].unique()))\n",
    "    ingenesnpsdf = backtoallsnps[backtoallsnps[\"closest_distance\"]==0]\n",
    "    \n",
    "    print (\"snps in genes\", ingenesnpsdf[\"rsID\"].nunique())\n",
    "    print (\"closest genes when snp is in a gene\", len(ingenesnpsdf[\"closest_gene\"].unique()))\n",
    "    notingenesnpsdf = backtoallsnps[backtoallsnps[\"closest_distance\"]!=0]\n",
    "    print (\"snps not in  genes\", notingenesnpsdf[\"rsID\"].nunique())\n",
    "    print (\"closest genes when snp is not in a gene\", len(notingenesnpsdf[\"closest_gene\"].unique()))\n",
    "    inabidir = backtoallsnps[~backtoallsnps[\"bidirname\"].isna()]\n",
    "    print (\"snps in any birectional\", inabidir[\"rsID\"].nunique())\n",
    "    inabidirnotgene = notingenesnpsdf[~notingenesnpsdf[\"bidirname\"].isna()]\n",
    "    inabidirinagene = ingenesnpsdf[~ingenesnpsdf[\"bidirname\"].isna()]\n",
    "    inabidirinagenetestedforsnps = backtoallsnps[backtoallsnps[\"bidirtesed_for_links\"]==True]\n",
    "    inabidirinagenetestedforsnps2 = inabidirnotgene[inabidirnotgene[\"bidirtesed_for_links\"]==True]\n",
    "    inabidirinagenetestedforsnps3 = inabidirinagene[inabidirinagene[\"bidirtesed_for_links\"]==True]\n",
    "    print (\"snps in any birectional that's not in a gene\", inabidirnotgene[\"rsID\"].nunique())\n",
    "    print (\"snps in any birectional that's in a gene\", inabidirinagene[\"rsID\"].nunique())\n",
    "    #/scratch/Shares/dowell/rutendo/projects/DBNascent_Analysis/data/counts/normalized/genes_inter_bidir_filtered.tsv.gz\n",
    "    print (\"snps in any birectional that was tested for correlations\", inabidirinagenetestedforsnps[\"rsID\"].nunique())\n",
    "    print (\"snps in any birectional that was tested for correlations (snp not in gene)\", inabidirinagenetestedforsnps2[\"rsID\"].nunique())\n",
    "    print (\"snps in any birectional that was tested for correlations (snp in gene)\", inabidirinagenetestedforsnps3[\"rsID\"].nunique())  \n",
    "    print (\"closeset genes when snp in any birectional\", len(inabidirnotgene[\"closest_gene\"].unique()))\n",
    "    inabidirlinkedtoagene = inabidirnotgene[~inabidirnotgene[\"transcript_1\"].isna()]\n",
    "    print (\"snps in any birectional and snp linked to gene\", inabidirlinkedtoagene[\"rsID\"].nunique())\n",
    "    print (\"closeset genes when snp in any birectional and snp linked to gene\", len(inabidirlinkedtoagene[\"closest_gene\"].unique()))\n",
    "    print (\"nascentlinked genes when snp in any birectional and snp linked to gene\", len(inabidirlinkedtoagene[\"transcript_1\"].unique()))\n",
    "    inabidirlinkedtoagene = inabidirnotgene[~inabidirnotgene[\"transcript_1\"].isna()]\n",
    "    repogene = [gene for gene in backtoallsnps[\"gene\"].unique() if gene not in backtoallsnps[\"closest_gene\"].unique()]\n",
    "    closestgene = [gene for gene in backtoallsnps[\"closest_gene\"].unique() if gene not in backtoallsnps[\"gene\"].unique()]\n",
    "    both = [gene for gene in backtoallsnps[\"closest_gene\"].unique() if gene in backtoallsnps[\"gene\"].unique()]\n",
    "    print (\"for all snps intergentic and geneic\")\n",
    "    print (\"\\tgenes that are nascentlinked and are not closeset genes\", len(repogene))\n",
    "    print (\"\\tgenes that are both in closeset genes and nascentlinked\", len(both))\n",
    "    print (\"\\tgenes that are closeset genes not nascentlinked\", len(closestgene))\n",
    "    repogene = [gene for gene in notingenesnpsdf[\"gene\"].unique() if gene not in notingenesnpsdf[\"closest_gene\"].unique()]\n",
    "    closestgene = [gene for gene in notingenesnpsdf[\"closest_gene\"].unique() if gene not in notingenesnpsdf[\"gene\"].unique()]\n",
    "    both = [gene for gene in notingenesnpsdf[\"closest_gene\"].unique() if gene in notingenesnpsdf[\"gene\"].unique()]\n",
    "    print (\"for snps that are intergentic\")\n",
    "    print (\"\\tgenes that are nascentlinked and are not closeset genes\", len(repogene))\n",
    "    print (\"\\tgenes that are both in closeset genes and nascentlinked\", len(both))\n",
    "    print (\"\\tgenes that are closeset genes not nascentlinked\", len(closestgene))\n",
    "    repogene = [gene for gene in inabidirnotgene[\"gene\"].unique() if gene not in inabidirnotgene[\"closest_gene\"].unique()]\n",
    "    closestgene = [gene for gene in inabidirnotgene[\"closest_gene\"].unique() if gene not in inabidirnotgene[\"gene\"].unique()]\n",
    "    both = [gene for gene in inabidirnotgene[\"closest_gene\"].unique() if gene in inabidirnotgene[\"gene\"].unique()]\n",
    "    print (\"for only snps in bidirs\")\n",
    "    print (\"\\tgenes that are nascentlinked and are not closeset genes\", len(repogene))\n",
    "    print (\"\\tgenes that are both in closeset genes and nascentlinked\", len(both))\n",
    "    print (\"\\tgenes that are closeset genes not nascentlinked\", len(closestgene))"
   ]
  },
  {
   "cell_type": "code",
   "execution_count": 49,
   "metadata": {
    "ExecuteTime": {
     "end_time": "2023-11-29T20:53:04.119685Z",
     "start_time": "2023-11-29T20:53:04.076283Z"
    }
   },
   "outputs": [
    {
     "data": {
      "text/html": [
       "<div>\n",
       "<style scoped>\n",
       "    .dataframe tbody tr th:only-of-type {\n",
       "        vertical-align: middle;\n",
       "    }\n",
       "\n",
       "    .dataframe tbody tr th {\n",
       "        vertical-align: top;\n",
       "    }\n",
       "\n",
       "    .dataframe thead th {\n",
       "        text-align: right;\n",
       "    }\n",
       "</style>\n",
       "<table border=\"1\" class=\"dataframe\">\n",
       "  <thead>\n",
       "    <tr style=\"text-align: right;\">\n",
       "      <th></th>\n",
       "      <th>Unnamed: 0</th>\n",
       "      <th>riskAllele</th>\n",
       "      <th>locations</th>\n",
       "      <th>snp_chr</th>\n",
       "      <th>snp_start</th>\n",
       "      <th>rsID</th>\n",
       "      <th>change</th>\n",
       "      <th>stop</th>\n",
       "      <th>snp_stop</th>\n",
       "      <th>closest_gene_chr</th>\n",
       "      <th>...</th>\n",
       "      <th>strand</th>\n",
       "      <th>closest_distance</th>\n",
       "      <th>closest_gene</th>\n",
       "      <th>closest_transcript_id</th>\n",
       "      <th>bidirname</th>\n",
       "      <th>distance_tss</th>\n",
       "      <th>transcript_1</th>\n",
       "      <th>gene</th>\n",
       "      <th>bidirtesed_for_links</th>\n",
       "      <th>snp_in_gene</th>\n",
       "    </tr>\n",
       "  </thead>\n",
       "  <tbody>\n",
       "  </tbody>\n",
       "</table>\n",
       "<p>0 rows × 24 columns</p>\n",
       "</div>"
      ],
      "text/plain": [
       "Empty DataFrame\n",
       "Columns: [Unnamed: 0, riskAllele, locations, snp_chr, snp_start, rsID, change, stop, snp_stop, closest_gene_chr, closest_gene_start, closest_gene_stop, closest_gene_name, score, strand, closest_distance, closest_gene, closest_transcript_id, bidirname, distance_tss, transcript_1, gene, bidirtesed_for_links, snp_in_gene]\n",
       "Index: []\n",
       "\n",
       "[0 rows x 24 columns]"
      ]
     },
     "execution_count": 49,
     "metadata": {},
     "output_type": "execute_result"
    }
   ],
   "source": []
  },
  {
   "cell_type": "code",
   "execution_count": 35,
   "metadata": {
    "ExecuteTime": {
     "end_time": "2023-11-29T16:10:44.093149Z",
     "start_time": "2023-11-29T16:10:44.090159Z"
    }
   },
   "outputs": [],
   "source": [
    "backtoallsnps = allsnps_one_tissue"
   ]
  },
  {
   "cell_type": "code",
   "execution_count": 36,
   "metadata": {
    "ExecuteTime": {
     "end_time": "2023-11-29T16:10:44.111550Z",
     "start_time": "2023-11-29T16:10:44.095492Z"
    }
   },
   "outputs": [
    {
     "data": {
      "text/plain": [
       "array(['ARID5B', 'BCL11A', 'MIR4522', 'PCAT29', 'LRIG1', 'LOC105374297',\n",
       "       'CFAP100-DT', 'ENPP5', 'ADAMTS14', 'SLC39A10', 'AMD1', 'GRAMD1B',\n",
       "       'BCL2L11', 'FIGNL1', 'LINC00977', 'CDKN2A', 'FAM53B', 'ELK3',\n",
       "       'CEBPE', 'TEX41', 'IKZF1', 'CPSF2', 'MYRIP', 'MMADHC', 'PDE4B',\n",
       "       'PARP12', 'TIGAR', 'MIR4465', 'CFHR4', 'METTL4', 'HS6ST1', 'SP4',\n",
       "       'TP63', 'OR5AL1', 'GPATCH2L', 'INTS10', 'LINC02494', 'KCNA3',\n",
       "       'ADAT2', 'HTR1B', 'KLHL5', 'IRF4', 'ACOXL-AS1', 'IRF8', 'CCDC18',\n",
       "       'TATDN3', 'LINC02229', 'HLA-DOB', 'SLC25A51P1', 'LHFPL3', 'TPK1',\n",
       "       'LOC101929998', 'SEC23IP', 'MIR8068', 'FREM2', 'SMAD3-DT', 'HAP1',\n",
       "       'HLA-DRB1', 'ODF1', 'CASC19', 'DMRTA1', 'BMF', 'MNS1', 'PMAIP1',\n",
       "       'PHLPP1', 'EOMES', 'SERPINB6', 'LPP-AS1', 'CSRNP1', 'QPCT',\n",
       "       'CFLAR-AS1', 'SP140L', 'SEPTIN2', 'CDKN2B-AS1', 'PRKD2', 'MDS2',\n",
       "       'TMPRSS5', 'CXXC1', 'ZBTB7A', 'ODF3B', 'LINC02363', 'CAMK2D',\n",
       "       'IPCEF1', 'C11orf21', 'CASP8', 'HLA-DQB1', 'MYNN', 'BAK1',\n",
       "       'FAS-AS1', 'LOC105378068', 'WDR11', 'IL15', 'SPATS2L', 'ELMO1-AS1',\n",
       "       'GATA3', 'PRMT3', 'LOC101929538', 'PTPRK', 'ST13P4', 'LARP7',\n",
       "       'MIR1243', 'NDST4', 'TRPC3', 'LINC02479', 'INPP4B', 'HHIP-AS1',\n",
       "       'LINC02355', 'IQCM', 'LINC02273', 'FHDC1', 'ANXA10', 'DDX60L',\n",
       "       'HAFML', 'LINC02509', 'LINC02500', 'LINC02508', 'MIR4277',\n",
       "       'LOC100506858', 'LINC01377', 'LINC02063', 'ROR1', 'LPAR3', 'BTBD8',\n",
       "       'SETSIP', 'CCDC18-AS1', 'GPR88', 'LINC01307', 'LOC100129138',\n",
       "       'PIFO', 'MAGI3', 'LOC643441', 'OLFML3', 'PHGDH', 'LINC00624',\n",
       "       'FLG-AS1', 'FLG', 'LINC01777', 'AJAP1', 'LINC02782', 'H6PD',\n",
       "       'SPSB1', 'ACTL8', 'MAN1C1', 'HMGN2', 'RPS6KA1', 'LINC01648',\n",
       "       'CDCA8', 'C1orf109', 'HIVEP3', 'HECTD3', 'UROD', 'LGALS9', 'NOS2',\n",
       "       'CDK5R1', 'CACNB1', 'ARL5C', 'IGFBP4', 'TOP2A', 'ETV4', 'FAM171A2',\n",
       "       'MIR8059', 'TBX4', 'MIR633', 'LINC02563', 'CEP192', 'MIR5190',\n",
       "       'LINC01894', 'ZNF521', 'CDH2', 'MIR302F', 'KC6', 'ST8SIA3',\n",
       "       'ONECUT2', 'NEDD4L', 'CDH19', 'MIR5011', 'LINC01912', 'LINC01541',\n",
       "       'MIR4316', 'LINC01904', 'MIR3976', 'MIR3976HG', 'LOC121725015',\n",
       "       'ARHGAP28-AS1', 'PTPRM', 'PTPN2', 'MINAR1', 'ST20-MTHFS', 'MTHFS',\n",
       "       'WHAMM', 'LOC102724452', 'RHCG', 'LINC00930', 'LINC00924',\n",
       "       'MIR3677HG', 'ZSCAN10', 'ZNF205-AS1', 'RBFOX1', 'LINC02152',\n",
       "       'KRTCAP2', 'SLC25A44', 'FCRL3', 'OR6Y1', 'OR10R2', 'OR10X1',\n",
       "       'OR6P1', 'OR10J5', 'MIR557', 'LINC01741', 'DIO3OS', 'ATP10A',\n",
       "       'GABRG3', 'CHRNA7', 'SPRED1', 'SLC24A5', 'ATP8B4', 'LINC02490',\n",
       "       'GOLGA2P11', 'UACA', 'RCN2', 'SCAPER', 'LINGO1-AS2', 'BRINP3',\n",
       "       'RGS2-AS1', 'UCHL5', 'LINC01031', 'SYT2', 'KISS1', 'PLXNA2',\n",
       "       'LINC01774', 'TC2N', 'FBLN5', 'RIN3', 'ASB2', 'GSC', 'LINC02169',\n",
       "       'IRX5', 'IRX6', 'CES1P2', 'CDH8', 'CDH11', 'LINC01568', 'PSMD7-DT',\n",
       "       'WWOX-AS1', 'ARLNC1', 'MIR3182', 'LINC01195', 'LINC01177', 'MYH11',\n",
       "       'GP2', 'ACSM2A', 'C16orf82', 'SBK1', 'IL27', 'ABCC11', 'LONP2',\n",
       "       'SIAH1', 'LINC01571', 'COTL1', 'LINC00917', 'MIR132', 'DPH1',\n",
       "       'GUCY2D', 'ALOX15B', 'SHISA6', 'LINC00670', 'PMP22', 'TEKT3',\n",
       "       'USP32P1', 'KRT17P1', 'KRT16P2', 'ATP6V0A4', 'KDM7A-DT', 'DPP6',\n",
       "       'LOC101927914', 'LOC286083', 'MCPH1-DT', 'DEFA5', 'FAM86B3P',\n",
       "       'LOC101929128', 'LOC102725080', 'SGCZ', 'MSR1', 'ZDHHC2', 'ASAH1',\n",
       "       'NPM2', 'STC1', 'FZD3', 'DUSP4', 'TCIM', 'SLC20A2', 'LOC100287846',\n",
       "       'SNTG1', 'LOC101929341', 'RNU105C', 'SOX17', 'LOC102724612',\n",
       "       'PI15', 'LOC101927141', 'DCAF4L2', 'MTDH', 'PABPC1', 'ZFPM2-AS1',\n",
       "       'TRPS1', 'AARD', 'SMILR', 'TRMT12', 'MIR4662B', 'LOC101927657',\n",
       "       'KDM4C', 'DMAC1', 'PTPRD', 'LOC105375972', 'PTPRD-DT', 'CNTLN',\n",
       "       'SH3GL2', 'IFNA22P', 'IFNA5', 'KLHL9', 'CDKN2A-DT', 'LINC01239',\n",
       "       'LINGO2', 'ZFAT', 'KHDRBS3', 'ZNF250', 'KANK1', 'DMRT1', 'AK3',\n",
       "       'RCL1', 'MEGF9', 'TTLL11', 'MIR4478', 'LMX1B-DT', 'LINC01503',\n",
       "       'COL5A1', 'UBAC1', 'NACC2', 'CAMK1G', 'MTARC1', 'RNU6ATAC35P',\n",
       "       'LINC01352', 'LINC02474', 'LINC01703', 'ACBD3', 'TMEM78', 'PGBD5',\n",
       "       'LINC01139', 'TFAP2A', 'LOC101928253', 'PHACTR1', 'NUP153-AS1',\n",
       "       'KIF13A', 'LNC-LBCS', 'H1-2', 'H1-1', 'H3C2', 'HFE-AS1', 'H3C3',\n",
       "       'H2AC4', 'H4C2', 'PI16', 'LOC730101', 'MLIP-AS1',\n",
       "       'LINC00680-GUSBP4', 'GUSBP4', 'LOC101928516', 'LINC01526',\n",
       "       'LINC02542', 'LOC101928936', 'SIM1', 'GRIK2', 'LINC02526',\n",
       "       'ZBTB24', 'AK9', 'LINC02541', 'MIR3144', 'TBC1D32', 'CLVS2',\n",
       "       'LOC101927623', 'ISCA1', 'C9orf153', 'LINC02872', 'SPIN1', 'S1PR3',\n",
       "       'LOC100128076', 'SPTLC1', 'PHF2', 'MIR4291', 'COL15A1', 'ADIPINT',\n",
       "       'LINC00587', 'LOC107987013', 'KIAA1958', 'INIP', 'SLC31A2',\n",
       "       'NDUFB6', 'SPINK4', 'CCL19', 'SHB', 'FAM95C', 'KLF9', 'OSTF1',\n",
       "       'PCSK5', 'PSAT1', 'LINC01507', 'CHN2-AS1', 'NEUROD6', 'ITPRID1',\n",
       "       'GPR141', 'LOC107986794', 'GTF2IRD1P1', 'LINC02604',\n",
       "       'LOC102723427', 'AUTS2', 'CCL26', 'CACNA2D1', 'SEMA3A',\n",
       "       'LINC00972', 'MIR548A2', 'NMBR', 'FUCA2', 'SASH1', 'PPP1R14C',\n",
       "       'LOC102723831', 'ESR1', 'SNORD28B', 'SNX9', 'RNF216', 'THSD7A',\n",
       "       'LINC02587', 'AGR2', 'ABCB5', 'PALS2', 'HIBADH', 'JAZF1-AS1',\n",
       "       'CREB5', 'KCTD16', 'PLAC8L1', 'SH3RF2', 'RBM27', 'LOC127814297',\n",
       "       'STK32A-AS1', 'LINC01470', 'CLINT1', 'LINC02227', 'MIR3142HG',\n",
       "       'CCNG1', 'MAT2B', 'TENM2', 'SPDL1', 'FOXI1', 'SNORA70J', 'TLX3',\n",
       "       'LINC01484', 'LINC01485', 'F12', 'LOC100128340', 'LINC03066',\n",
       "       'SERPINB1', 'KU-MEL-3', 'RREB1', 'EEF1E1-BLOC1S5', 'PON2',\n",
       "       'DYNC1I1', 'RELN', 'LINC02903', 'LOC102724434', 'NDUFA5',\n",
       "       'LOC101928283', 'ZNF800', 'AHCYL2', 'LOC101928782', 'CALD1',\n",
       "       'TGFA', 'ADD2', 'SEMA4F', 'MRPL19', 'LRRTM4-AS1', 'CTNNA2-AS1',\n",
       "       'MIR8080', 'LRRTM1', 'LINC01809', 'LINC01964', 'TCF7L1', 'RNF181',\n",
       "       'SFTPB', 'PROM2', 'KCNIP3', 'KANSL3', 'NEURL3', 'ARID5A',\n",
       "       'C2orf92', 'ZAP70', 'LINC01029', 'SALL3', 'RNU6-2', 'ZNF555',\n",
       "       'TLE2', 'ARHGEF18', 'OR7C2', 'SLC1A6', 'CYP4F12', 'OR10H2',\n",
       "       'LINC00661', 'SLC8A1-AS1', 'SIX2', 'LINC01121', 'SOCS5', 'ASB3',\n",
       "       'RPL23AP32', 'SPTBN1', 'LOC100129434', 'CCDC85A', 'LINC01122',\n",
       "       'SLC1A4', 'LINC03050', 'MIR1297', 'DIAPH3', 'DIAPH3-AS1',\n",
       "       'DIAPH3-AS2', 'LINC00448', 'LINC00550', 'DACH1', 'MZT1', 'KLF5',\n",
       "       'LINC01080', 'SPRY2', 'LINC00564', 'LINC01049', 'LINC01309',\n",
       "       'DAOA-AS1', 'LINC00343', 'SEZ6L', 'MN1', 'RFPL1S', 'RFPL1', 'NEFH',\n",
       "       'MTMR3', 'ASCC2', 'NUP50-DT', 'GRAMD4', 'LOC284933', 'NHIP',\n",
       "       'CNTN6', 'CRBN', 'MIR4790', 'GRM7', 'GBE1', 'SNORA95', 'LINC02025',\n",
       "       'EPHA3', 'EPHA6', 'ABI3BP', 'LOC101929411', 'ZPLD1', 'ALCAM',\n",
       "       'CBLB', 'KPNA1', 'PARP9', 'MYLK-AS2', 'OSBPL11', 'LOC105374312',\n",
       "       'LINC02145', 'LINC02226', 'LINC02223', 'PRDM9', 'LINC02211',\n",
       "       'LOC105374704', 'LINC02120', 'SLC1A3', 'LINC00603', 'CIB3',\n",
       "       'KCNN1', 'ZNF93', 'LINC00664', 'ZNF730', 'LINC01858', 'LINC02987',\n",
       "       'LINC01532', 'LINC01782', 'TDRD12', 'SLC7A9', 'GPR42', 'FFAR1',\n",
       "       'FFAR3', 'ZNF585B', 'ZNF383', 'LEUTX', 'AKT2', 'MIR641',\n",
       "       'C19orf47', 'SHKBP1', 'GRIK5', 'PSG11', 'ZNF787', 'LINC01864',\n",
       "       'MIMT1', 'TRAPPC12-AS1', 'ADI1', 'COLEC11', 'LINC01248',\n",
       "       'LINC01247', 'LOC100506274', 'HPCAL1', 'MIR4262', 'LOC100506474',\n",
       "       'CYRIA', 'LTBP1', 'LINC01317', 'LINC01320', 'MIR548AD', 'CRIM1-DT',\n",
       "       'PIRAT1', 'ATL2', 'LINC00205', 'COL18A1-AS1', 'COL18A1', 'PCBP3',\n",
       "       'ADA2', 'LINC00621', 'SGCG', 'LINC00463', 'LINC01053', 'POLR1D',\n",
       "       'PAN3', 'LINC00445', 'DCLK1', 'STOML3', 'MIR5694', 'LOC100996664',\n",
       "       'DLST', 'RPS6KL1', 'LOC105370586', 'LINC02311', 'LINC02301',\n",
       "       'LINC02328', 'LINC01148', 'POM121L4P', 'VPREB1', 'PRAMENP',\n",
       "       'LINC00578', 'LOC101928882', 'CCDC39', 'HTR3E', 'EIF2B5-DT',\n",
       "       'FETUB', 'GMNC', 'FGF12-AS2', 'MAN2B2', 'PPP2R2C', 'LINC02447',\n",
       "       'TRMT44', 'GPR78', 'FBXL5', 'LAP3', 'LCORL', 'PPARGC1A', 'MIR573',\n",
       "       'CCDC149', 'MIR4275', 'LINC02472', 'NWD2', 'PTTG2', 'KLF3-AS1',\n",
       "       'LINC02278', 'KCTD8', 'LNX1', 'LNX1-AS2', 'PDE4D', 'C5orf64-AS1',\n",
       "       'IPO11', 'DIMT1', 'LINC02198', 'MRPS27', 'MAP1B', 'ARSB',\n",
       "       'SERINC5', 'TMEM161B', 'LINC01846', 'LINC02113', 'FAM174A',\n",
       "       'LINC00491', 'RAB9BP1', 'CDO1', 'FAM170A', 'PHAX', 'CTXN3',\n",
       "       'LEAP2', 'WSPAR', 'TRPC7', 'LRRTM2', 'CTNNA1-AS1', 'CTNNA1',\n",
       "       'SIL1', 'CCDC3', 'LOC101928453', 'FAM107B', 'PLXDC2', 'MIR4675',\n",
       "       'JCAD', 'TMEM72-AS1', 'PCDH15', 'ZWINT', 'CCDC6', 'MRLN',\n",
       "       'MIR4486', 'MPPED2-AS1', 'PAX6-AS1', 'ABTB2', 'CAT', 'CREB3L1',\n",
       "       'FOLH1', 'OR9Q1', 'MS4A14', 'MS4A7', 'ASRGL1', 'SCGB1D4', 'MIR612',\n",
       "       'GPR26', 'C10orf90', 'MGMT', 'DPYSL4', 'CYP2E1', 'SPRNP1', 'FRG2B',\n",
       "       'SYCE1', 'FAM99A', 'TRPM5', 'PARVA', 'CALCB', 'CALCA', 'MMP13',\n",
       "       'GRIA4', 'LINC02550', 'NCAM1-AS1', 'CADM1', 'CBL', 'SORL1',\n",
       "       'MIR100HG', 'VWA5A', 'LOC101929653', 'B3GAT1', 'CLEC4C',\n",
       "       'LINC01559', 'LINC02909', 'CCDC91', 'PKP2', 'SYT10', 'KRT83',\n",
       "       'EIF4B', 'OR6C75', 'OR6C3', 'OR6C65', 'LINC02442', 'NAV3',\n",
       "       'LINC02426', 'LINC00615', 'C1orf100', 'ADARB2', 'LINC02639',\n",
       "       'AKR1E2', 'LASTR', 'ANKRD16', 'GDI2', 'FBH1', 'IL15RA', 'SFMBT2',\n",
       "       'REEP3', 'SRGN', 'LINC02622', 'UNC5B', 'RPS24', 'LINC02650',\n",
       "       'PPP1R3C', 'MARK2P9', 'SORBS1', 'PYROXD2', 'SORCS1', 'LINC01435',\n",
       "       'NHLRC2', 'FHIP2A', 'LINC00867', 'CACUL1', 'NANOS1', 'WDR11-DT',\n",
       "       'FGFR2', 'TACC2', 'HMX3', 'LINC02747', 'SHANK2-AS3', 'PLEKHB1',\n",
       "       'GDPD5', 'MAP6', 'TENM4', 'RAB38', 'TRIM77', 'LNCRNA-IUR',\n",
       "       'ENDOD1', 'ARHGAP42-AS1', 'TMEM123', 'BIRC2', 'LINC02823',\n",
       "       'LINC01619', 'MIR5700', 'BLTP3B', 'CHPT1', 'MYBPC1', 'NUAK1',\n",
       "       'LHX5-AS1', 'MED13L', 'XLOC_009911', 'HNF1A-AS1', 'AACS',\n",
       "       'LINC02372', 'LINC02376', 'LINC02411', 'LINC02368', 'TMEM132C',\n",
       "       'TMEM132D', 'LINC01257', 'LINC02414', 'LINC00424', 'LINC00540',\n",
       "       'LINC01849', 'LINC01935', 'FHL2', 'LINC01594', 'SULT1C3', 'MERTK',\n",
       "       'TMEM87B', 'IL36RN', 'IL1F10', 'LOC101927709', 'GYPC', 'BIN1',\n",
       "       'CYP27C1', 'RAB3GAP1', 'MAP3K19', 'TFPI', 'LINC01923', 'PARD3B',\n",
       "       'ADAM23', 'CHRNA1', 'H3P6', 'MKRN7P', 'ZNF663P', 'LINC00494',\n",
       "       'NFATC2', 'DOK5', 'LINC01441', 'CBLN4', 'BMP7', 'MIR99AHG',\n",
       "       'MIR548XHG', 'RUNX1', 'KCNJ15', 'B3GALT5', 'FRGCA', 'MIR3171HG',\n",
       "       'LINC02326', 'LINC02313', 'ARHGAP5-AS1', 'EGLN3', 'LINC00648',\n",
       "       'RPS29', 'LOC101927690', 'TMEM260', 'LINC01500', 'SIX6',\n",
       "       'DENND6A-DT', 'LOC339902', 'MIR548BB', 'LINC02040', 'SUCLG2',\n",
       "       'FOXP1', 'PDZRN3', 'CPNE4', 'ACP3', 'NPHP3-AS1', 'AMOTL2', 'CHST2',\n",
       "       'CP', 'ZBBX', 'MIR7977', 'ATP5MC3', 'MIR933', 'ATF2', 'TTN',\n",
       "       'MARCHF4', 'MIR4268', 'ILKAP', 'DEFB127', 'TBC1D20', 'RBCK1',\n",
       "       'SCRT2', 'LOC105372493', 'PRNP', 'ADRA1D', 'SLC23A2', 'PROKR2',\n",
       "       'LINC00658', 'SNAP25', 'BTBD3', 'MACROD2-IT1', 'SCP2D1-AS1',\n",
       "       'SLC24A3', 'RALGAPA2', 'FOXS1', 'SUN5', 'EFCAB14', 'SKINT1L',\n",
       "       'OMA1', 'HSD52', 'CHMP4B', 'DHX35', 'LOC100128988', 'LINC00606',\n",
       "       'PPARG', 'HDAC11', 'GALNT15', 'BALR6', 'UBE2E2-DT', 'LRRC3B-AS1',\n",
       "       'POMGNT2', 'GASK1A', 'PDGFRA', 'IGFBP7-AS1', 'LINC02496', 'SCD5',\n",
       "       'GPAT3', 'WDFY3-AS2', 'MIR4452', 'ABCG2', 'FAM13A', 'PDHA2',\n",
       "       'LINC02267', 'CACHD1', 'KMT5B', 'LINC03060', 'HLA-DQA2',\n",
       "       'DTNB-AS1', 'TERC', 'SP140', 'FLJ42393', 'PVT1', 'FABP3',\n",
       "       'NCK1-DT', 'LINC02655', 'HHEX'], dtype=object)"
      ]
     },
     "execution_count": 36,
     "metadata": {},
     "output_type": "execute_result"
    }
   ],
   "source": [
    "notingenesnpsdf = backtoallsnps[backtoallsnps[\"closest_distance\"]!=0]\n",
    "notingenesnpsdf[\"closest_gene\"].unique()"
   ]
  },
  {
   "cell_type": "code",
   "execution_count": 37,
   "metadata": {
    "ExecuteTime": {
     "end_time": "2023-11-29T16:10:48.049028Z",
     "start_time": "2023-11-29T16:10:44.113900Z"
    }
   },
   "outputs": [
    {
     "name": "stdout",
     "output_type": "stream",
     "text": [
      "riskAlleles 8513\n",
      "snp locations 7805\n",
      "rsID 7805\n",
      "closest genes 1386\n",
      "snps in genes 3245\n",
      "closest genes when snp is in a gene 676\n",
      "snps not in  genes 4560\n",
      "closest genes when snp is not in a gene 949\n",
      "snps in any birectional 1061\n",
      "snps in any birectional that's not in a gene 579\n",
      "snps in any birectional that's in a gene 482\n",
      "snps in any birectional that was tested for correlations 393\n",
      "snps in any birectional that was tested for correlations (snp not in gene) 391\n",
      "snps in any birectional that was tested for correlations (snp in gene) 2\n",
      "closeset genes when snp in any birectional 349\n",
      "snps in any birectional and snp linked to gene 126\n",
      "closeset genes when snp in any birectional and snp linked to gene 99\n",
      "nascentlinked genes when snp in any birectional and snp linked to gene 259\n",
      "for all snps intergentic and geneic\n",
      "\tgenes that are nascentlinked and are not closeset genes 217\n",
      "\tgenes that are both in closeset genes and nascentlinked 43\n",
      "\tgenes that are closeset genes not nascentlinked 1343\n",
      "for snps that are intergentic\n",
      "\tgenes that are nascentlinked and are not closeset genes 221\n",
      "\tgenes that are both in closeset genes and nascentlinked 39\n",
      "\tgenes that are closeset genes not nascentlinked 910\n",
      "for only snps in bidirs\n",
      "\tgenes that are nascentlinked and are not closeset genes 234\n",
      "\tgenes that are both in closeset genes and nascentlinked 26\n",
      "\tgenes that are closeset genes not nascentlinked 323\n"
     ]
    }
   ],
   "source": [
    "informationforpub(\"blood\", backtoallsnps)"
   ]
  },
  {
   "cell_type": "code",
   "execution_count": 50,
   "metadata": {
    "ExecuteTime": {
     "end_time": "2023-11-29T20:53:40.997828Z",
     "start_time": "2023-11-29T20:53:40.922868Z"
    }
   },
   "outputs": [],
   "source": [
    "def tissuesummary(tissue):\n",
    "    allsnps_one_tissue = merge_dfs_outer(mainindir, rootname, tissue)\n",
    "    backtoallsnps = allsnps_one_tissue\n",
    "    notingenesnpsdf = allsnps_one_tissue[allsnps_one_tissue[\"closest_distance\"]!=0]\n",
    "    closest_gene_tointergenicsnp = notingenesnpsdf[[\"closest_gene\"]].drop_duplicates()\n",
    "    closest_gene_tointergenicsnp.to_csv(mainindir+rootname+\"_\"+tissue+\"/\"+rootname+\"closest.genelist.intergenicsnps.txt\", header=False, index=False)\n",
    "    notingenesnpsdf_bidirtestedforlinks = notingenesnpsdf[notingenesnpsdf[\"bidirtesed_for_links\"]==True]\n",
    "    closest_gene_tointergenicsnp_bidirtestedforlinks = notingenesnpsdf_bidirtestedforlinks[[\"closest_gene\"]].drop_duplicates()\n",
    "    closest_gene_tointergenicsnp_bidirtestedforlinks.to_csv(mainindir+rootname+\"_\"+tissue+\"/\"+rootname+\"closest.genelist.intergenicsnps.bidirwasincortest.txt\", header=False, index=False)\n",
    "    backtoallsnps = merge_dfs_outer(mainindir, rootname, tissue)\n",
    "    ingenesnpsdf = backtoallsnps[backtoallsnps[\"closest_distance\"]==0]\n",
    "    notingenesnpsdf = backtoallsnps[backtoallsnps[\"closest_distance\"]!=0]\n",
    "    inabidirnotgene = backtoallsnps[~backtoallsnps[\"bidirname\"].isna()]\n",
    "    inabidirlinkedtoagene = inabidirnotgene[~inabidirnotgene[\"transcript_1\"].isna()]\n",
    "    nsnpslinkedtogenes = inabidirlinkedtoagene[\"rsID\"].nunique()\n",
    "    nbidirslinkedtogenes = inabidirlinkedtoagene[\"bidirname\"].nunique()\n",
    "    nnascentlinkedgenes = len(inabidirlinkedtoagene[\"transcript_1\"].unique())\n",
    "    print(tissue)\n",
    "    print(backtoallsnps[backtoallsnps[\"gene\"]==\"NES\"])\n",
    "    return nsnpslinkedtogenes, nbidirslinkedtogenes, nnascentlinkedgenes"
   ]
  },
  {
   "cell_type": "markdown",
   "metadata": {},
   "source": [
    "# compare links in each tissue"
   ]
  },
  {
   "cell_type": "code",
   "execution_count": 51,
   "metadata": {
    "ExecuteTime": {
     "end_time": "2023-11-29T20:53:42.299141Z",
     "start_time": "2023-11-29T20:53:42.292845Z"
    }
   },
   "outputs": [],
   "source": [
    "tissues = ['blood', 'breast', 'embryo', 'heart', 'intestine', 'kidney','lung', 'prostate', 'skin', 'uterus', 'umbilical_cord']"
   ]
  },
  {
   "cell_type": "code",
   "execution_count": 52,
   "metadata": {
    "ExecuteTime": {
     "end_time": "2023-11-29T21:36:20.279307Z",
     "start_time": "2023-11-29T20:53:42.917722Z"
    }
   },
   "outputs": [
    {
     "name": "stdout",
     "output_type": "stream",
     "text": [
      "blood\n",
      "unique snps in bidirectionals 7805\n",
      "unique snps in bidirectionals 7805\n",
      "blood\n",
      "Empty DataFrame\n",
      "Columns: [Unnamed: 0, riskAllele, locations, snp_chr, snp_start, rsID, change, stop, snp_stop, closest_gene_chr, closest_gene_start, closest_gene_stop, closest_gene_name, score, strand, closest_distance, closest_gene, closest_transcript_id, bidirname, distance_tss, transcript_1, gene, bidirtesed_for_links, snp_in_gene]\n",
      "Index: []\n",
      "\n",
      "[0 rows x 24 columns]\n",
      "breast\n",
      "unique snps in bidirectionals 7805\n",
      "unique snps in bidirectionals 7805\n",
      "breast\n",
      "Empty DataFrame\n",
      "Columns: [Unnamed: 0, riskAllele, locations, snp_chr, snp_start, rsID, change, stop, snp_stop, closest_gene_chr, closest_gene_start, closest_gene_stop, closest_gene_name, score, strand, closest_distance, closest_gene, closest_transcript_id, bidirname, distance_tss, transcript_1, gene, bidirtesed_for_links, snp_in_gene]\n",
      "Index: []\n",
      "\n",
      "[0 rows x 24 columns]\n",
      "embryo\n",
      "unique snps in bidirectionals 7805\n",
      "unique snps in bidirectionals 7805\n",
      "unique snps in bidirectionals 7805\n",
      "heart\n",
      "      Unnamed: 0   riskAllele    locations snp_chr  snp_start       rsID  \\\n",
      "1770         547  rs2241111-T  1:156193927    chr1  156193927  rs2241111   \n",
      "1777         547  rs2842879-T  1:156193904    chr1  156193904  rs2842879   \n",
      "\n",
      "     change       stop   snp_stop closest_gene_chr  ...  strand  \\\n",
      "1770      T  156193928  156193928             chr1  ...       +   \n",
      "1777      T  156193905  156193905             chr1  ...       +   \n",
      "\n",
      "      closest_distance closest_gene closest_transcript_id  \\\n",
      "1770               926     SLC25A44           NM_014655.4   \n",
      "1777               949     SLC25A44           NM_014655.4   \n",
      "\n",
      "                     bidirname  distance_tss     transcript_1 gene  \\\n",
      "1770  chr1:156193745-156194157      483456.0  NES:NM_006617.2  NES   \n",
      "1777  chr1:156193745-156194157      483456.0  NES:NM_006617.2  NES   \n",
      "\n",
      "     bidirtesed_for_links  snp_in_gene  \n",
      "1770                 True        False  \n",
      "1777                 True        False  \n",
      "\n",
      "[2 rows x 24 columns]\n",
      "intestine\n",
      "unique snps in bidirectionals 7805\n",
      "unique snps in bidirectionals 7805\n",
      "intestine\n",
      "Empty DataFrame\n",
      "Columns: [Unnamed: 0, riskAllele, locations, snp_chr, snp_start, rsID, change, stop, snp_stop, closest_gene_chr, closest_gene_start, closest_gene_stop, closest_gene_name, score, strand, closest_distance, closest_gene, closest_transcript_id, bidirname, distance_tss, transcript_1, gene, bidirtesed_for_links, snp_in_gene]\n",
      "Index: []\n",
      "\n",
      "[0 rows x 24 columns]\n",
      "kidney\n",
      "unique snps in bidirectionals 7805\n",
      "unique snps in bidirectionals 7805\n",
      "kidney\n",
      "Empty DataFrame\n",
      "Columns: [Unnamed: 0, riskAllele, locations, snp_chr, snp_start, rsID, change, stop, snp_stop, closest_gene_chr, closest_gene_start, closest_gene_stop, closest_gene_name, score, strand, closest_distance, closest_gene, closest_transcript_id, bidirname, distance_tss, transcript_1, gene, bidirtesed_for_links, snp_in_gene]\n",
      "Index: []\n",
      "\n",
      "[0 rows x 24 columns]\n",
      "lung\n",
      "unique snps in bidirectionals 7805\n",
      "unique snps in bidirectionals 7805\n",
      "lung\n",
      "Empty DataFrame\n",
      "Columns: [Unnamed: 0, riskAllele, locations, snp_chr, snp_start, rsID, change, stop, snp_stop, closest_gene_chr, closest_gene_start, closest_gene_stop, closest_gene_name, score, strand, closest_distance, closest_gene, closest_transcript_id, bidirname, distance_tss, transcript_1, gene, bidirtesed_for_links, snp_in_gene]\n",
      "Index: []\n",
      "\n",
      "[0 rows x 24 columns]\n",
      "prostate\n",
      "unique snps in bidirectionals 7805\n",
      "unique snps in bidirectionals 7805\n",
      "prostate\n",
      "Empty DataFrame\n",
      "Columns: [Unnamed: 0, riskAllele, locations, snp_chr, snp_start, rsID, change, stop, snp_stop, closest_gene_chr, closest_gene_start, closest_gene_stop, closest_gene_name, score, strand, closest_distance, closest_gene, closest_transcript_id, bidirname, distance_tss, transcript_1, gene, bidirtesed_for_links, snp_in_gene]\n",
      "Index: []\n",
      "\n",
      "[0 rows x 24 columns]\n",
      "skin\n",
      "unique snps in bidirectionals 7805\n",
      "unique snps in bidirectionals 7805\n",
      "skin\n",
      "Empty DataFrame\n",
      "Columns: [Unnamed: 0, riskAllele, locations, snp_chr, snp_start, rsID, change, stop, snp_stop, closest_gene_chr, closest_gene_start, closest_gene_stop, closest_gene_name, score, strand, closest_distance, closest_gene, closest_transcript_id, bidirname, distance_tss, transcript_1, gene, bidirtesed_for_links, snp_in_gene]\n",
      "Index: []\n",
      "\n",
      "[0 rows x 24 columns]\n",
      "uterus\n",
      "unique snps in bidirectionals 7805\n",
      "unique snps in bidirectionals 7805\n",
      "uterus\n",
      "Empty DataFrame\n",
      "Columns: [Unnamed: 0, riskAllele, locations, snp_chr, snp_start, rsID, change, stop, snp_stop, closest_gene_chr, closest_gene_start, closest_gene_stop, closest_gene_name, score, strand, closest_distance, closest_gene, closest_transcript_id, bidirname, distance_tss, transcript_1, gene, bidirtesed_for_links, snp_in_gene]\n",
      "Index: []\n",
      "\n",
      "[0 rows x 24 columns]\n",
      "umbilical_cord\n",
      "unique snps in bidirectionals 7805\n",
      "unique snps in bidirectionals 7805\n",
      "umbilical_cord\n",
      "Empty DataFrame\n",
      "Columns: [Unnamed: 0, riskAllele, locations, snp_chr, snp_start, rsID, change, stop, snp_stop, closest_gene_chr, closest_gene_start, closest_gene_stop, closest_gene_name, score, strand, closest_distance, closest_gene, closest_transcript_id, bidirname, distance_tss, transcript_1, gene, bidirtesed_for_links, snp_in_gene]\n",
      "Index: []\n",
      "\n",
      "[0 rows x 24 columns]\n"
     ]
    }
   ],
   "source": [
    "nlinkedsnps = []\n",
    "nlinkedbidirs = []\n",
    "\n",
    "nlinkedgenes = []\n",
    "\n",
    "for tissue in tissues:\n",
    "    print (tissue)\n",
    "    nsnpslinkedtogenes, nbidirslinkedtogenes, nnascentlinkedgenes = tissuesummary(tissue)\n",
    "    nlinkedsnps.append(nsnpslinkedtogenes)\n",
    "    nlinkedbidirs.append(nbidirslinkedtogenes)\n",
    "    nlinkedgenes.append(nnascentlinkedgenes)\n",
    "    "
   ]
  },
  {
   "cell_type": "code",
   "execution_count": 41,
   "metadata": {
    "ExecuteTime": {
     "end_time": "2023-11-29T16:49:29.790215Z",
     "start_time": "2023-11-29T16:49:29.780069Z"
    }
   },
   "outputs": [
    {
     "data": {
      "text/plain": [
       "[259, 144, 69, 101, 243, 189, 106, 193, 76, 233, 32]"
      ]
     },
     "execution_count": 41,
     "metadata": {},
     "output_type": "execute_result"
    }
   ],
   "source": [
    "nlinkedgenes"
   ]
  },
  {
   "cell_type": "code",
   "execution_count": 42,
   "metadata": {
    "ExecuteTime": {
     "end_time": "2023-11-29T16:49:29.801954Z",
     "start_time": "2023-11-29T16:49:29.794800Z"
    }
   },
   "outputs": [
    {
     "data": {
      "text/plain": [
       "[111, 65, 21, 36, 54, 62, 26, 44, 20, 70, 14]"
      ]
     },
     "execution_count": 42,
     "metadata": {},
     "output_type": "execute_result"
    }
   ],
   "source": [
    "nlinkedbidirs"
   ]
  },
  {
   "cell_type": "code",
   "execution_count": 43,
   "metadata": {
    "ExecuteTime": {
     "end_time": "2023-11-29T16:49:29.812095Z",
     "start_time": "2023-11-29T16:49:29.805732Z"
    }
   },
   "outputs": [
    {
     "data": {
      "text/plain": [
       "[126, 75, 25, 43, 63, 74, 30, 51, 30, 84, 18]"
      ]
     },
     "execution_count": 43,
     "metadata": {},
     "output_type": "execute_result"
    }
   ],
   "source": [
    "nlinkedsnps"
   ]
  },
  {
   "cell_type": "code",
   "execution_count": 44,
   "metadata": {
    "ExecuteTime": {
     "end_time": "2023-11-29T16:49:29.822912Z",
     "start_time": "2023-11-29T16:49:29.815172Z"
    }
   },
   "outputs": [],
   "source": [
    "todf = zip(tissues, nlinkedsnps, nlinkedbidirs, nlinkedgenes)\n",
    "labels = [\"tissue\", \"snps linked\",\"bidir linked\",  \"genes linked\"]\n",
    "tissuesnpdflinkdf = pd.DataFrame.from_records(todf, columns = labels) "
   ]
  },
  {
   "cell_type": "code",
   "execution_count": 45,
   "metadata": {
    "ExecuteTime": {
     "end_time": "2023-11-29T16:49:29.842632Z",
     "start_time": "2023-11-29T16:49:29.825688Z"
    }
   },
   "outputs": [],
   "source": [
    "tissuesnpdflinkdf.to_csv(outdir+rootname+\"_linkedpertissue.csv\")"
   ]
  },
  {
   "cell_type": "code",
   "execution_count": 46,
   "metadata": {
    "ExecuteTime": {
     "end_time": "2023-11-29T16:49:29.849801Z",
     "start_time": "2023-11-29T16:49:29.845147Z"
    }
   },
   "outputs": [],
   "source": [
    "tissuesnpdflinkdf[\"gene per bidir\"]= tissuesnpdflinkdf[\"genes linked\"]/tissuesnpdflinkdf[\"bidir linked\"]"
   ]
  },
  {
   "cell_type": "code",
   "execution_count": 47,
   "metadata": {
    "ExecuteTime": {
     "end_time": "2023-11-29T16:49:29.865418Z",
     "start_time": "2023-11-29T16:49:29.852078Z"
    }
   },
   "outputs": [
    {
     "data": {
      "text/html": [
       "<div>\n",
       "<style scoped>\n",
       "    .dataframe tbody tr th:only-of-type {\n",
       "        vertical-align: middle;\n",
       "    }\n",
       "\n",
       "    .dataframe tbody tr th {\n",
       "        vertical-align: top;\n",
       "    }\n",
       "\n",
       "    .dataframe thead th {\n",
       "        text-align: right;\n",
       "    }\n",
       "</style>\n",
       "<table border=\"1\" class=\"dataframe\">\n",
       "  <thead>\n",
       "    <tr style=\"text-align: right;\">\n",
       "      <th></th>\n",
       "      <th>tissue</th>\n",
       "      <th>snps linked</th>\n",
       "      <th>bidir linked</th>\n",
       "      <th>genes linked</th>\n",
       "      <th>gene per bidir</th>\n",
       "    </tr>\n",
       "  </thead>\n",
       "  <tbody>\n",
       "    <tr>\n",
       "      <th>0</th>\n",
       "      <td>blood</td>\n",
       "      <td>126</td>\n",
       "      <td>111</td>\n",
       "      <td>259</td>\n",
       "      <td>2.333333</td>\n",
       "    </tr>\n",
       "    <tr>\n",
       "      <th>1</th>\n",
       "      <td>breast</td>\n",
       "      <td>75</td>\n",
       "      <td>65</td>\n",
       "      <td>144</td>\n",
       "      <td>2.215385</td>\n",
       "    </tr>\n",
       "    <tr>\n",
       "      <th>2</th>\n",
       "      <td>embryo</td>\n",
       "      <td>25</td>\n",
       "      <td>21</td>\n",
       "      <td>69</td>\n",
       "      <td>3.285714</td>\n",
       "    </tr>\n",
       "    <tr>\n",
       "      <th>3</th>\n",
       "      <td>heart</td>\n",
       "      <td>43</td>\n",
       "      <td>36</td>\n",
       "      <td>101</td>\n",
       "      <td>2.805556</td>\n",
       "    </tr>\n",
       "    <tr>\n",
       "      <th>4</th>\n",
       "      <td>intestine</td>\n",
       "      <td>63</td>\n",
       "      <td>54</td>\n",
       "      <td>243</td>\n",
       "      <td>4.500000</td>\n",
       "    </tr>\n",
       "    <tr>\n",
       "      <th>5</th>\n",
       "      <td>kidney</td>\n",
       "      <td>74</td>\n",
       "      <td>62</td>\n",
       "      <td>189</td>\n",
       "      <td>3.048387</td>\n",
       "    </tr>\n",
       "    <tr>\n",
       "      <th>6</th>\n",
       "      <td>lung</td>\n",
       "      <td>30</td>\n",
       "      <td>26</td>\n",
       "      <td>106</td>\n",
       "      <td>4.076923</td>\n",
       "    </tr>\n",
       "    <tr>\n",
       "      <th>7</th>\n",
       "      <td>prostate</td>\n",
       "      <td>51</td>\n",
       "      <td>44</td>\n",
       "      <td>193</td>\n",
       "      <td>4.386364</td>\n",
       "    </tr>\n",
       "    <tr>\n",
       "      <th>8</th>\n",
       "      <td>skin</td>\n",
       "      <td>30</td>\n",
       "      <td>20</td>\n",
       "      <td>76</td>\n",
       "      <td>3.800000</td>\n",
       "    </tr>\n",
       "    <tr>\n",
       "      <th>9</th>\n",
       "      <td>uterus</td>\n",
       "      <td>84</td>\n",
       "      <td>70</td>\n",
       "      <td>233</td>\n",
       "      <td>3.328571</td>\n",
       "    </tr>\n",
       "    <tr>\n",
       "      <th>10</th>\n",
       "      <td>umbilical_cord</td>\n",
       "      <td>18</td>\n",
       "      <td>14</td>\n",
       "      <td>32</td>\n",
       "      <td>2.285714</td>\n",
       "    </tr>\n",
       "  </tbody>\n",
       "</table>\n",
       "</div>"
      ],
      "text/plain": [
       "            tissue  snps linked  bidir linked  genes linked  gene per bidir\n",
       "0            blood          126           111           259        2.333333\n",
       "1           breast           75            65           144        2.215385\n",
       "2           embryo           25            21            69        3.285714\n",
       "3            heart           43            36           101        2.805556\n",
       "4        intestine           63            54           243        4.500000\n",
       "5           kidney           74            62           189        3.048387\n",
       "6             lung           30            26           106        4.076923\n",
       "7         prostate           51            44           193        4.386364\n",
       "8             skin           30            20            76        3.800000\n",
       "9           uterus           84            70           233        3.328571\n",
       "10  umbilical_cord           18            14            32        2.285714"
      ]
     },
     "execution_count": 47,
     "metadata": {},
     "output_type": "execute_result"
    }
   ],
   "source": [
    "tissuesnpdflinkdf"
   ]
  },
  {
   "cell_type": "code",
   "execution_count": null,
   "metadata": {},
   "outputs": [],
   "source": []
  },
  {
   "cell_type": "code",
   "execution_count": null,
   "metadata": {},
   "outputs": [],
   "source": []
  }
 ],
 "metadata": {
  "kernelspec": {
   "display_name": "Python 3 (ipykernel)",
   "language": "python",
   "name": "python3"
  },
  "language_info": {
   "codemirror_mode": {
    "name": "ipython",
    "version": 3
   },
   "file_extension": ".py",
   "mimetype": "text/x-python",
   "name": "python",
   "nbconvert_exporter": "python",
   "pygments_lexer": "ipython3",
   "version": "3.6.8"
  },
  "toc": {
   "base_numbering": 1,
   "nav_menu": {},
   "number_sections": true,
   "sideBar": true,
   "skip_h1_title": false,
   "title_cell": "Table of Contents",
   "title_sidebar": "Contents",
   "toc_cell": false,
   "toc_position": {},
   "toc_section_display": true,
   "toc_window_display": false
  }
 },
 "nbformat": 4,
 "nbformat_minor": 2
}
